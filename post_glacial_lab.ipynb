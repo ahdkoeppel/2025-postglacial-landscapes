{
 "cells": [
  {
   "cell_type": "markdown",
   "id": "f918a201",
   "metadata": {},
   "source": [
    "<div>\n",
    "<img src=\"https://csdms.colorado.edu/csdms_wiki/images/ESPIn-mtns-skinny-transparent.png\" width=\"800\"/>\n",
    "</div>"
   ]
  },
  {
   "cell_type": "markdown",
   "id": "0b97174a",
   "metadata": {},
   "source": [
    "<div>\n",
    "<img src=\"https://csdms.colorado.edu/csdms_wiki/images/thumb/CSDMS-logo-color-notagline-ver_high.png/400px-CSDMS-logo-color-notagline-ver_high.png\" width=\"200\" hspace=\"20\"><a href=\"http://landlab.github.io\"><img src=\"https://raw.githubusercontent.com/landlab/tutorials/release/landlab_header.png\" width=\"500\"></a>\n",
    "</div>"
   ]
  },
  {
   "cell_type": "markdown",
   "id": "a6fb092c-72c0-4fe0-a50a-46d83d1a3d74",
   "metadata": {
    "tags": []
   },
   "source": [
    "# Post-Glacial Landscape Lab: What happens in a still-icy landscape once the glaciers are gone? \n",
    "ESPIn 2025 project exploring landscape influence of glacial retreat on near term landscapes and watersheds."
   ]
  },
  {
   "cell_type": "markdown",
   "id": "26a5b981-d7a2-45fd-b0b8-595e853933d8",
   "metadata": {
    "tags": []
   },
   "source": [
    "#### Team Members\n",
    "* Viet M Bui (organic rice fed - Delta & SLR dude)\n",
    "* Ari Koeppel (sol3ling)\n",
    "* Shayla Triantafillou (river gal)\n",
    "* Karin Lehnigk (glof club)\n",
    "* Lucille Baker-Stahl (temperature + morphodynamics = ?)\n",
    "* Tom Hoseason (tbd)"
   ]
  },
  {
   "cell_type": "markdown",
   "id": "3ae9ac9b-5d34-44be-86fa-1c18bd73d814",
   "metadata": {},
   "source": [
    "# Table of Contents\n",
    "* [Introduction to post-glacial landscape modification](#Intro)\n",
    "* [Simple ice-cored moraine diffusion](#Moraine)\n",
    "* [Simple post glacial fluvial plain](#Plain)\n",
    "* [Linking together components to track a postglacial surface system](#Linking)\n",
    "* [Summary and implications for our warming Arctic and alpine](#Summary)\n"
   ]
  },
  {
   "cell_type": "markdown",
   "id": "237b68c1-2e6e-4cf4-914d-615f77dbab9c",
   "metadata": {
    "tags": []
   },
   "source": [
    "## Intro"
   ]
  },
  {
   "cell_type": "markdown",
   "id": "c4f339ef-c0f4-4c55-91f1-94b3a6dc08ca",
   "metadata": {},
   "source": []
  },
  {
   "cell_type": "markdown",
   "id": "c5407f73-3d3a-4471-8d8c-c505eea5dd38",
   "metadata": {},
   "source": [
    "## Moraine"
   ]
  },
  {
   "cell_type": "markdown",
   "id": "bda9c8c0-f732-421f-be17-236094d9c1d2",
   "metadata": {},
   "source": [
    "Glacier Surface Hydrology is the key role to understand and study the meltwater dynamics of when and how water flows across glaciers and ice sheets. This lab notebook is desgined for undergraduates and graduate students to learn how meltwater flows across different types of glaciers in the world. Users will explore how water will flow on a synthetic glacier with varying surface topography and a mountain glacier through tools from Landlab and other glaciological concepts."
   ]
  },
  {
   "cell_type": "markdown",
   "id": "c2cc27f8-840e-498e-b197-e3b83e8db918",
   "metadata": {
    "jp-MarkdownHeadingCollapsed": true,
    "tags": []
   },
   "source": [
    "## Plain"
   ]
  },
  {
   "cell_type": "markdown",
   "id": "22a68a1f",
   "metadata": {},
   "source": [
    "## Summary"
   ]
  },
  {
   "cell_type": "code",
   "execution_count": 2,
   "id": "945c5036-173e-471d-bd06-cf7adc59f09b",
   "metadata": {},
   "outputs": [],
   "source": [
    "from landlab.components import (\n",
    "    FlowDirectorD8,\n",
    "    FlowDirectorMFD,\n",
    "    FlowDirectorSteepest,\n",
    "    FlowAccumulator, \n",
    "    SinkFillerBarnes,\n",
    "    DepressionFinderAndRouter\n",
    ")\n",
    "\n",
    "from bmi_topography import Topography\n",
    "from landlab import RasterModelGrid\n",
    "from landlab.plot.drainage_plot import drainage_plot\n",
    "from landlab.plot.graph import plot_graph\n",
    "import matplotlib.pyplot as plt\n",
    "from matplotlib import cm\n",
    "import numpy as np"
   ]
  },
  {
   "cell_type": "code",
   "execution_count": 6,
   "id": "04e97c66",
   "metadata": {},
   "outputs": [
    {
     "data": {
      "image/png": "[encoded data removed]",
      "text/plain": [
       "<Figure size 640x480 with 2 Axes>"
      ]
     },
     "metadata": {},
     "output_type": "display_data"
    }
   ],
   "source": [
    "#define the grid\n",
    "size_x = 100\n",
    "size_y = 100\n",
    "spacing = 1.0\n",
    "grid = RasterModelGrid((size_x, size_y), xy_spacing=spacing)\n",
    "\n",
    "# morph the grid with a sine function\n",
    "moraine_height = 10\n",
    "bedrock_slope = 0.22\n",
    "layer_thickness = 10\n",
    "\n",
    "grid.add_zeros('topographic__elevation', at='node')\n",
    "x = grid.x_of_node\n",
    "y = grid.y_of_node\n",
    "z = moraine_height * np.sin(np.pi*x / (size_x/3))\n",
    "z[z<0] = 0\n",
    "z += bedrock_slope*y + layer_thickness\n",
    "grid.at_node['topographic__elevation'] = z\n",
    "\n",
    "# show grid\n",
    "grid.imshow('topographic__elevation', cmap=cm.terrain)"
   ]
  },
  {
   "cell_type": "markdown",
   "id": "dc264ab0",
   "metadata": {},
   "source": [
    "Classroom organization\n",
    "In this lab, you will learn how to use Topography and ERA5 Data Components to download terrain and precipitation datasets. You will also learn how to use the Landlab components (FlowAccumulator, ChannelProfiler, OverlandFlow) and the Landlab utility (get_watershed_mask) for watershed delineation and overland flow simulation.\n",
    "\n",
    "Learning objectives\n",
    "Skills\n",
    "\n",
    "    Learn to use Data Components to download research datasets.\n",
    "    Learn to couple Data and Model Components for overland flow simulation.\n",
    "\n",
    "Key concepts\n",
    "\n",
    "    Landlab\n",
    "    Data-Model Integration\n",
    "    CSDMS Data Component\n",
    "\n",
    "\n",
    "Lab notes\n",
    "This lab can be run on the lab (for educators) and jupyter (for general use) instances of the OpenEarthscape JupyterHub: just click one of the links under the Run online using heading at the top of this page, then run the notebook in the \"CSDMS\" kernel.\n",
    "\n",
    "\n",
    "If you don't already have a JupyterHub account, follow the instructions to sign up at https://csdms.colorado.edu/wiki/JupyterHub. If you're an educator, you can get JupyterHub accounts for students--please contact us through the CSDMS Help Desk: https://csdms.github.io/help-desk.\n",
    "\n",
    "Requirements\n",
    "If run locally, please follow the instruction at https://github.com/gantian127/overlandflow_usecase.\n",
    "\n",
    "Acknowledgements\n",
    "This work was supported by the National Science Foundation under collaborative grants 1831623, 2026951, 2140831, 2104102, and 2148762.\n",
    "\n",
    "References\n",
    "\n",
    "    Barnhart, K. R., Hutton, E. W. H., Tucker, G. E., M. Gasparini, N., Istanbulluoglu, E., E. J. Hobley, D., J. Lyons, N., Mouchene, M., Siddhartha Nudurupati, S., M. Adams, J., & Bandaragoda, C. (2020). Short communication: Landlab v2.0: A software package for Earth surface dynamics. Earth Surface Dynamics, 8(2), 379–397. https://doi.org/10.5194/esurf-8-379-2020"
   ]
  },
  {
   "cell_type": "markdown",
   "id": "98d4119c",
   "metadata": {},
   "source": []
  }
 ],
 "metadata": {
  "kernelspec": {
   "display_name": "CSDMS",
   "language": "python",
   "name": "csdms-2023"
  },
  "language_info": {
   "codemirror_mode": {
    "name": "ipython",
    "version": 3
   },
   "file_extension": ".py",
   "mimetype": "text/x-python",
   "name": "python",
   "nbconvert_exporter": "python",
   "pygments_lexer": "ipython3",
   "version": "3.9.16"
  }
 },
 "nbformat": 4,
 "nbformat_minor": 5
}
