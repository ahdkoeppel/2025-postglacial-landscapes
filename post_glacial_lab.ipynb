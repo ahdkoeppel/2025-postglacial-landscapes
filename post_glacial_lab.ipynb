{
 "cells": [
  {
   "cell_type": "markdown",
   "id": "f918a201",
   "metadata": {},
   "source": [
    "<div>\n",
    "<img src=\"https://csdms.colorado.edu/csdms_wiki/images/ESPIn-mtns-skinny-transparent.png\" width=\"800\"/>\n",
    "</div>"
   ]
  },
  {
   "cell_type": "markdown",
   "id": "0b97174a",
   "metadata": {},
   "source": [
    "<div>\n",
    "<img src=\"https://csdms.colorado.edu/csdms_wiki/images/thumb/CSDMS-logo-color-notagline-ver_high.png/400px-CSDMS-logo-color-notagline-ver_high.png\" width=\"200\" hspace=\"20\"><a href=\"http://landlab.github.io\"><img src=\"https://raw.githubusercontent.com/landlab/tutorials/release/landlab_header.png\" width=\"500\"></a>\n",
    "</div>"
   ]
  },
  {
   "cell_type": "markdown",
   "id": "a6fb092c-72c0-4fe0-a50a-46d83d1a3d74",
   "metadata": {
    "tags": []
   },
   "source": [
    "# Post-Glacial Landscape Lab: Exploring the Dynamic Environments of Glacial Retreat \n",
    "### Overview\n",
    "This lab will introduce some of the key drivers of landscape change following deglaciation. The lab will also develop familiarity with modeling 2D systems via the Landlab modeling ecosystem, including setting up gridded topography with subsurface ice (RasterModelGrid), and employing physics-based landscape modification components (LinearDiffuser, OverlandFlow, LinearDiffusionOverlandFlowRouter, KinwaveImplicitOverlandFlow, FlowDirectorSteepest, SedDepEroder, NetworkSedimentTransporter). The final componant of the lab will be to simulate flow over real topography, obtained using Landlab Data Components.\n",
    "\n",
    "### Time: 1-2 hrs\n",
    "\n",
    "### Learning objectives\n",
    "#### Skills\n",
    "Running 2D numerical models to simulate short term landscape evolution applicable to rapidly warming Arctic and alpine Environments.\n",
    "\n",
    "#### Key concepts\n",
    "\n",
    "* Paraglacial processes\n",
    "* Landlab\n",
    "* CSDMS Data Component\n",
    "\n",
    "### Requirements\n",
    "If you don't already have a JupyterHub account, follow the instructions to sign up at https://csdms.colorado.edu/wiki/JupyterHub. If you're an educator, you can get JupyterHub accounts for students--please contact us through the CSDMS Help Desk: https://csdms.github.io/help-desk.\n",
    "If run locally, please Please first download all the files from this repository and have conda installed on the local PC. Then, use the following commands to create a virtual environment and launch the Jupyter Notebook.\n",
    "\n",
    "    $ cd 2025-postglacial-landscapes\n",
    "    $ conda env create --file=environment.yml\n",
    "    $ conda activate 2025-postglacial-landscapes\n",
    "    $ jupyter notebook\n"
   ]
  },
  {
   "cell_type": "markdown",
   "id": "26a5b981-d7a2-45fd-b0b8-595e853933d8",
   "metadata": {
    "tags": []
   },
   "source": [
    "### Contributors \n",
    "* Viet M Bui (organic rice fed - Delta & SLR dude)\n",
    "* Ari Koeppel (sol3ling)\n",
    "* Shayla Triantafillou (river gal)\n",
    "* Karin Lehnigk (glof club)\n",
    "* Lucille Baker-Stahl (temperature + morphodynamics = ?)\n",
    "* Tom Hoseason (tbd)\n",
    "\n",
    "This lab was developed as part of the 2025 Earth Surface Processeses Institute (ESPIn) with support from the National Science Foundation under collaborative grants 1831623, 2026951, 2140831, 2104102, and 2148762."
   ]
  },
  {
   "cell_type": "markdown",
   "id": "3ae9ac9b-5d34-44be-86fa-1c18bd73d814",
   "metadata": {},
   "source": [
    "# Table of Contents\n",
    "* [Introduction](#Introduction)\n",
    "* [Setting up a Moraine Diffusion Model](#setting-up-a-moraine-diffusion-model)\n",
    "* [Setting up an Overland Flow Model](#setting-up-an-overland-flow-model)\n",
    "* [Sediment Transport](#sediment-transport-coupling-diffusion-and-flow)\n",
    "* [Vegetation and Erodibility](#vegetation-and-erodibility)\n",
    "* [Combining the Elements](#combining-the-elements-into-a-scaled-model)\n",
    "* [Summary and implications for our warming Arctic and alpine](#Summary)\n"
   ]
  },
  {
   "cell_type": "markdown",
   "id": "237b68c1-2e6e-4cf4-914d-615f77dbab9c",
   "metadata": {
    "tags": []
   },
   "source": [
    "## Introduction"
   ]
  },
  {
   "cell_type": "markdown",
   "id": "c4f339ef-c0f4-4c55-91f1-94b3a6dc08ca",
   "metadata": {},
   "source": [
    "Studying the dynamics of ice-cored moraines is essential for understanding how postglacial landscapes evolve. These landforms trap and slowly release glacial ice beneath a cover of sediment, which affects rates of meltwater production and sediment transport. As ice cores degrade, they can generate localized subsidence, alter drainage patterns, and increase sediment input into downstream channels. By measuring changes in surface morphology, ice volume, and melt rates, researchers can quantify sediment budgets and model the long-term development of glacial forefields, improving predictions of landscape adjustment following glacier retreat. \n",
    "\n",
    "Beyond landscape evolution, ice-cored moraine dynamics pose direct implications for hazard assessment and water resources. Rapid collapse of moraine ridges or sudden outbursts of trapped meltwater may trigger debris flows, floods, and infrastructure damage in downstream communities. Conversely, the slow release of water from buried ice contributes to seasonal streamflow, particularly in regions dependent on glacial melt for irrigation and hydropower. Detailed monitoring and numerical modeling of ice-cored moraines thus support both risk mitigation—through early warning of potential slope failures—and resource management under changing climate conditions. "
   ]
  },
  {
   "cell_type": "markdown",
   "id": "c5407f73-3d3a-4471-8d8c-c505eea5dd38",
   "metadata": {},
   "source": [
    "## Setting up a Moraine Diffusion Model"
   ]
  },
  {
   "cell_type": "markdown",
   "id": "c2cc27f8-840e-498e-b197-e3b83e8db918",
   "metadata": {
    "jp-MarkdownHeadingCollapsed": true,
    "tags": []
   },
   "source": [
    "## Setting up an Overland Flow Model\n",
    "\n",
    "Newly exposed surfaces in proglacial basins often experience overland flow as well-defined channels have yet to form."
   ]
  },
  {
   "cell_type": "markdown",
   "id": "921f443e",
   "metadata": {},
   "source": [
    "## Sediment Transport: Coupling Diffusion and Flow"
   ]
  },
  {
   "cell_type": "markdown",
   "id": "b1acc4ff",
   "metadata": {},
   "source": [
    "## Vegetation and Erodibility"
   ]
  },
  {
   "cell_type": "markdown",
   "id": "0acd0717",
   "metadata": {},
   "source": [
    "## Combining the Elements into a Scaled Model"
   ]
  },
  {
   "cell_type": "code",
   "execution_count": null,
   "id": "30384c18",
   "metadata": {},
   "outputs": [
    {
     "data": {
      "text/plain": [
       "Text(0.5, 1.0, 'Final Topography')"
      ]
     },
     "execution_count": 8,
     "metadata": {},
     "output_type": "execute_result"
    },
    {
     "data": {
      "image/png": "[encoded data removed]",
      "text/plain": [
       "<Figure size 800x600 with 2 Axes>"
      ]
     },
     "metadata": {},
     "output_type": "display_data"
    }
   ],
   "source": [
    "from landlab.components import LinearDiffuser, OverlandFlow, FlowDirectorSteepest, FlowAccumulator, SedDepEroder\n",
    "import numpy as np\n",
    "import matplotlib.pyplot as plt\n",
    "from landlab import RasterModelGrid\n",
    "\n",
    "# Create a grid\n",
    "grid = RasterModelGrid((50, 50), xy_spacing=10.0)\n",
    "z = grid.add_zeros('topographic__elevation', at='node')\n",
    "z += np.random.rand(len(z)) * 0.1  # Add some random noise to the elevation\n",
    "\n",
    "# Add subsurface ice\n",
    "ice = grid.add_zeros('ice__thickness', at='node')\n",
    "ice[grid.core_nodes] = np.random.rand(len(grid.core_nodes)) * 2.0  # Random ice thickness\n",
    "\n",
    "swd = grid.add_zeros('surface_water__depth', at='node')\n",
    "swd[grid.core_nodes] = np.random.rand(len(grid.core_nodes)) * 0.1  # Initial surface water depth\n",
    "\n",
    "# Initialize components\n",
    "diffuser = LinearDiffuser(grid, linear_diffusivity=0.01)\n",
    "overland_flow = OverlandFlow(grid)\n",
    "flow_director = FlowDirectorSteepest(grid)\n",
    "flow_accumulator = FlowAccumulator(grid)\n",
    "sed_dep_eroder = SedDepEroder(grid, K_sp=0.01, m_sp=0.5, n_sp=1.0)\n",
    "\n",
    "# Time loop\n",
    "for t in range(100):  # Simulate 100 time steps\n",
    "    # Simulate overland flow\n",
    "    overland_flow.run_one_step()\n",
    "    \n",
    "    # Direct and accumulate flow\n",
    "    flow_director.run_one_step()\n",
    "    flow_accumulator.run_one_step()\n",
    "    \n",
    "    # Erode and deposit sediment\n",
    "    sed_dep_eroder.run_one_step(dt=1.0)\n",
    "    \n",
    "    # Diffuse the landscape\n",
    "    diffuser.run_one_step(dt=1.0)\n",
    "    \n",
    "    # Melt ice and adjust topography\n",
    "    melt_rate = 0.01  # Example melt rate\n",
    "    ice_melt = np.minimum(ice[grid.core_nodes], melt_rate)\n",
    "    ice[grid.core_nodes] -= ice_melt\n",
    "    z[grid.core_nodes] -= ice_melt\n",
    "\n",
    "# Plot the final topography\n",
    "plt.figure(figsize=(8, 6))\n",
    "grid.imshow('topographic__elevation', cmap='terrain')\n",
    "plt.title('Final Topography')\n",
    "# plt.colorbar(label='Elevation (m)')\n",
    "# plt.show()"
   ]
  },
  {
   "cell_type": "markdown",
   "id": "22a68a1f",
   "metadata": {},
   "source": [
    "## Summary"
   ]
  },
  {
   "cell_type": "markdown",
   "id": "b8503f39",
   "metadata": {},
   "source": [
    "This document forms a simple basis, or starting point, for upscaling these results to a natural system in an arctic or alpine deglaciated valley."
   ]
  },
  {
   "cell_type": "markdown",
   "id": "dc264ab0",
   "metadata": {},
   "source": [
    "### References\n",
    "\n",
    "    Brook, M. S., & Paine, S. (2012). Ablation of ice‐cored moraine in a humid, maritime climate: Fox Glacier, New Zealand. Geografiska Annaler: Series A, Physical Geography, 94(3), 339-349.\n",
    "\n",
    "    Nicholson, L., & Benn, D. I. (2006). Calculating ice melt beneath a debris layer using meteorological data. Journal of Glaciology, 52(178), 463-470. https://doi.org/10.3189/172756506781828584\n",
    "\n",
    "    Østrem, G. (1959). Ice melting under a thin layer of moraine, and the existence of ice cores in moraine ridges. Geografiska Annaler, 41(4), 228-230. https://www.jstor.org/stable/4626805\n",
    "\n",
    "    Richardson, S. D., & Reynolds, J. M. (2000). Degradation of ice-cored moraine dams: implications for hazard development. IAHS PUBLICATION, 187-198.\n",
    "\n",
    "    Schomacker, A., & Kjær, K. H. (2008). Quantification of dead‐ice melting in ice‐cored moraines at the high‐Arctic glacier Holmströmbreen, Svalbard. Boreas, 37(2), 211-225.\n",
    "\n",
    "    Sletten, K., Lyså, A., & Lønne, I. (2001). Formation and disintegration of a high‐arctic ice‐cored moraine complex, Scott Turnerbreen, Svalbard. Boreas, 30(4), 272-284.https://doi.org/10.1111/j.1502-3885.2001.tb01046.x\n",
    "\n",
    "    Westoby, M. J., Glasser, N. F., Brasington, J., Hambrey, M. J., Quincey, D. J., & Reynolds, J. M. (2014). Modelling outburst floods from moraine-dammed glacial lakes. Earth-Science Reviews, 134, 137-159. https://doi.org/10.1016/j.earscirev.2014.03.009"
   ]
  },
  {
   "cell_type": "markdown",
   "id": "98d4119c",
   "metadata": {},
   "source": []
  }
 ],
 "metadata": {
  "kernelspec": {
   "display_name": "Ivy",
   "language": "python",
   "name": "ivy"
  },
  "language_info": {
   "codemirror_mode": {
    "name": "ipython",
    "version": 3
   },
   "file_extension": ".py",
   "mimetype": "text/x-python",
   "name": "python",
   "nbconvert_exporter": "python",
   "pygments_lexer": "ipython3",
   "version": "3.13.3"
  }
 },
 "nbformat": 4,
 "nbformat_minor": 5
}
